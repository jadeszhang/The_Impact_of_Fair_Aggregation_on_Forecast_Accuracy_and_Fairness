{
 "cells": [
  {
   "cell_type": "code",
   "execution_count": 1,
   "metadata": {},
   "outputs": [],
   "source": [
    "# import packages\n",
    "import pandas as pd\n",
    "import os\n",
    "import glob"
   ]
  },
  {
   "cell_type": "code",
   "execution_count": 2,
   "metadata": {},
   "outputs": [
    {
     "ename": "FileNotFoundError",
     "evalue": "[WinError 3] The system cannot find the path specified: 'c:\\\\Users\\\\Shuyu\\\\OneDrive\\\\文档\\\\Onedrive\\\\research\\\\Forecasting Paper\\\\Code\\\\code for first year paper\\\\data'",
     "output_type": "error",
     "traceback": [
      "\u001b[1;31m---------------------------------------------------------------------------\u001b[0m",
      "\u001b[1;31mFileNotFoundError\u001b[0m                         Traceback (most recent call last)",
      "\u001b[1;32m~\\AppData\\Local\\Temp/ipykernel_15860/3104122592.py\u001b[0m in \u001b[0;36m<module>\u001b[1;34m\u001b[0m\n\u001b[1;32m----> 1\u001b[1;33m \u001b[0mdirectory\u001b[0m \u001b[1;33m=\u001b[0m \u001b[0mos\u001b[0m\u001b[1;33m.\u001b[0m\u001b[0mlistdir\u001b[0m\u001b[1;33m(\u001b[0m\u001b[1;34m'c:\\\\Users\\\\Shuyu\\\\OneDrive\\\\文档\\\\Onedrive\\\\research\\\\Forecasting Paper\\\\Code\\\\code for first year paper\\\\data'\u001b[0m\u001b[1;33m)\u001b[0m\u001b[1;33m\u001b[0m\u001b[1;33m\u001b[0m\u001b[0m\n\u001b[0m\u001b[0;32m      2\u001b[0m \u001b[0mdfs\u001b[0m \u001b[1;33m=\u001b[0m \u001b[1;33m{\u001b[0m\u001b[1;33m}\u001b[0m\u001b[1;33m\u001b[0m\u001b[1;33m\u001b[0m\u001b[0m\n\u001b[0;32m      3\u001b[0m \u001b[0mdfs_transformed\u001b[0m \u001b[1;33m=\u001b[0m \u001b[1;33m{\u001b[0m\u001b[1;33m}\u001b[0m\u001b[1;33m\u001b[0m\u001b[1;33m\u001b[0m\u001b[0m\n\u001b[0;32m      4\u001b[0m \u001b[0mdfs_new\u001b[0m \u001b[1;33m=\u001b[0m \u001b[1;33m{\u001b[0m\u001b[1;33m}\u001b[0m\u001b[1;33m\u001b[0m\u001b[1;33m\u001b[0m\u001b[0m\n\u001b[0;32m      5\u001b[0m \u001b[1;32mfor\u001b[0m \u001b[0mfilename\u001b[0m \u001b[1;32min\u001b[0m \u001b[0mdirectory\u001b[0m\u001b[1;33m:\u001b[0m \u001b[1;31m# read all the files\u001b[0m\u001b[1;33m\u001b[0m\u001b[1;33m\u001b[0m\u001b[0m\n",
      "\u001b[1;31mFileNotFoundError\u001b[0m: [WinError 3] The system cannot find the path specified: 'c:\\\\Users\\\\Shuyu\\\\OneDrive\\\\文档\\\\Onedrive\\\\research\\\\Forecasting Paper\\\\Code\\\\code for first year paper\\\\data'"
     ]
    }
   ],
   "source": [
    "directory = os.listdir('c:\\\\Users\\\\Shuyu\\\\OneDrive\\\\文档\\\\Onedrive\\\\research\\\\Forecasting Paper\\\\Code\\\\code for first year paper\\\\data')\n",
    "dfs = {}\n",
    "dfs_transformed = {}\n",
    "dfs_new = {}\n",
    "for filename in directory: # read all the files\n",
    "    if filename.endswith('.csv'):\n",
    "        #concast the file name\n",
    "        dir_filename = \"data/\"+filename\n",
    "        f = pd.read_csv(dir_filename, sep=\"\\t\" , encoding=\"utf-16-le\",  thousands=',')        \n",
    "        dfs[filename] = f\n",
    "\n",
    "\n",
    "# for every datasets in dfs:\n",
    "for name in dfs:\n",
    "    \n",
    "    df = dfs[name]\n",
    "    df_name = name.split('.')[0].split('_')\n",
    "    \n",
    "    df = df.fillna(0)\n",
    "    \n",
    "    # only keep data from 2010 - 2019\n",
    "    data_cols_2010_2019 = [\"Broad category\", \"Category\", '2010', '2011', '2012', '2013','2014', '2015','2016', '2017', '2018', '2019']\n",
    "    df = df[data_cols_2010_2019]\n",
    "    df = df.drop(df.index[-1])\n",
    "    \n",
    "    \n",
    "    # to aggregate the categories\n",
    "    #### 1. aggreagte all the 'Southwest Asian/North African' , 2. aggregate \"\"Native Hawaiian and Pacific Islander\"\n",
    "    \n",
    "    # make a deep copy to get the aggregates\n",
    "    df_copy = df.copy(deep = True)\n",
    "    df_copy = df_copy.drop(['Category'], axis = 1)\n",
    "    # merge the broad categories\n",
    "    df_copy = df_copy.groupby(df['Broad category']).aggregate('sum')\n",
    "    # drop the rows that we don't need\n",
    "    options_broadcat = ['Native Hawaiian and Pacific Islander', 'Southwest Asian/North African']\n",
    "    df_copy = df_copy.loc[options_broadcat]\n",
    "    df_copy.reset_index(inplace=True)\n",
    "    df_copy['Category'] = df_copy['Broad category'] \n",
    "\n",
    "    # keep the Categories we want \n",
    "    options_cat = [\"African American/Black\", \"African\", \"Other African American/Black\", \"Caribbean\", \"American Indian/Alaska Native\", \"Filipino\", \"Chinese\", \"Asian Indian\", \"Vietnamese\", \"Japanese\", \"Pakistani\", \"Korean\", \"Other Asian\", \"Taiwanese\", \"Indonesian\", \"Thai\", \"Bangladeshi\", \"Cambodian\", \"Malaysian\", \"Mexican/Mexican American/Chicano\", \"Latin American/Latino\", \"Other Spanish American/Latino\", \"Puerto Rican\", \"Cuban\", \"Southwest Asian/North African\", \"White/Caucasian\", \"Other White\"]\n",
    "\n",
    "    df = df[df['Category'].isin(options_cat)]\n",
    "    # drop the category \n",
    "    df = pd.concat([df, df_copy], axis=0)\n",
    "    cols = list(df.columns)\n",
    "    #cols = [cols[-2]] + [cols[-1]]  + cols[:-2]\n",
    "    df = df[cols]\n",
    "    df.reset_index(drop=True, inplace=True)\n",
    "\n",
    "\n",
    "    # add them as new files \n",
    "    df.to_csv(name)\n"
   ]
  }
 ],
 "metadata": {
  "kernelspec": {
   "display_name": "Python 3.8.5 ('base')",
   "language": "python",
   "name": "python3"
  },
  "language_info": {
   "codemirror_mode": {
    "name": "ipython",
    "version": 3
   },
   "file_extension": ".py",
   "mimetype": "text/x-python",
   "name": "python",
   "nbconvert_exporter": "python",
   "pygments_lexer": "ipython3",
   "version": "3.9.7"
  },
  "orig_nbformat": 4,
  "vscode": {
   "interpreter": {
    "hash": "ad2bdc8ecc057115af97d19610ffacc2b4e99fae6737bb82f5d7fb13d2f2c186"
   }
  }
 },
 "nbformat": 4,
 "nbformat_minor": 2
}
