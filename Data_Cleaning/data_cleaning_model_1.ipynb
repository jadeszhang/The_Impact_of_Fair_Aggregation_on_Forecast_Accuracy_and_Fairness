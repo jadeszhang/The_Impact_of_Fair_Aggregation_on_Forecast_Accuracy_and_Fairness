{
 "cells": [
  {
   "cell_type": "code",
   "execution_count": 1,
   "metadata": {},
   "outputs": [],
   "source": [
    "import pandas as pd\n",
    "import numpy as np\n",
    "from sdv.timeseries import PAR\n"
   ]
  },
  {
   "cell_type": "markdown",
   "metadata": {},
   "source": [
    "For model 1"
   ]
  },
  {
   "cell_type": "code",
   "execution_count": 35,
   "metadata": {},
   "outputs": [],
   "source": [
    "# enrollment = pd.read_csv('C:/Users/Shuyu/Documents/research/OneDrive/research/Forecasting Paper/Data/enrollment_gender/enrollment.csv', sep=\"\\t\",encoding=\"utf-16-le\", thousands=',')\n",
    "enrollment = pd.read_csv('C:/Users/Shuyu/Documents/research/OneDrive/research/Forecasting Paper/Data/enrollment_gender/female.csv', sep=\"\\t\",encoding=\"utf-16-le\", thousands=',')"
   ]
  },
  {
   "cell_type": "code",
   "execution_count": 36,
   "metadata": {},
   "outputs": [],
   "source": [
    "enrollment = enrollment.drop(['Broad category','Collection Status'], axis=1)\n",
    "enrollment = enrollment.T\n",
    "enrollment.columns = enrollment.iloc[0]\n",
    "enrollment = enrollment.drop('Category')\n",
    "enrollment = enrollment.fillna(0)\n",
    "for i in enrollment.columns:\n",
    "    try:\n",
    "        enrollment[[i]] = enrollment[[i]].astype(float).astype(int)\n",
    "    except:\n",
    "        pass\n",
    "enrollment.index = pd.to_datetime(enrollment.index, format='%Y')\n",
    "enrollment = enrollment.to_period(\"Y\")\n",
    "enrollment = enrollment.to_timestamp()\n",
    "enrollment.reset_index(inplace=True)\n",
    "enrollment = enrollment.drop('Total', axis= 1)\n",
    "enrollment = enrollment.rename(columns = {'index':'year'})\n"
   ]
  },
  {
   "cell_type": "code",
   "execution_count": 37,
   "metadata": {},
   "outputs": [],
   "source": [
    "model = PAR(sequence_index = 'year')\n",
    "model.fit(enrollment)\n",
    "df_enrollment = model.sample(num_sequences=1,sequence_length=25)\n",
    "columns_exc_year = list(df_enrollment.columns)\n",
    "columns_exc_year.remove('year')\n",
    "df_enrollment[columns_exc_year] = df_enrollment[columns_exc_year].clip(lower = 0)"
   ]
  },
  {
   "cell_type": "code",
   "execution_count": 38,
   "metadata": {},
   "outputs": [],
   "source": [
    "df_enrollment.to_csv('C:/Users/Shuyu/Documents/research/OneDrive/research/Forecasting Paper/Data/enrollment_gender/model_1/f_model_1.csv')\n"
   ]
  }
 ],
 "metadata": {
  "kernelspec": {
   "display_name": "Python 3.9.7 ('base')",
   "language": "python",
   "name": "python3"
  },
  "language_info": {
   "codemirror_mode": {
    "name": "ipython",
    "version": 3
   },
   "file_extension": ".py",
   "mimetype": "text/x-python",
   "name": "python",
   "nbconvert_exporter": "python",
   "pygments_lexer": "ipython3",
   "version": "3.9.7"
  },
  "orig_nbformat": 4,
  "vscode": {
   "interpreter": {
    "hash": "ad2bdc8ecc057115af97d19610ffacc2b4e99fae6737bb82f5d7fb13d2f2c186"
   }
  }
 },
 "nbformat": 4,
 "nbformat_minor": 2
}
