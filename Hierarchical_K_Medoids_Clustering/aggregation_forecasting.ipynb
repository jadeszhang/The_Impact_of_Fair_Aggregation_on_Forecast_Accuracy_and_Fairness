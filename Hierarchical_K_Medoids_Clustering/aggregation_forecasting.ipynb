{
 "cells": [
  {
   "cell_type": "code",
   "execution_count": 1,
   "metadata": {},
   "outputs": [],
   "source": [
    "import pandas as pd\n",
    "import numpy as np\n",
    "from sklearn.cluster import AgglomerativeClustering\n",
    "from scipy.cluster.hierarchy import dendrogram\n",
    "from sklearn.cluster import DBSCAN\n",
    "from sklearn.cluster import KMeans\n",
    "from distance_and_fairness import *\n",
    "from sklearn_extra.cluster import KMedoids\n",
    "from statsmodels.tsa.api import ExponentialSmoothing, SimpleExpSmoothing, Holt\n",
    "import matplotlib.pyplot as plt\n",
    "import seaborn as sns\n",
    "import itertools\n"
   ]
  },
  {
   "cell_type": "code",
   "execution_count": 2,
   "metadata": {},
   "outputs": [],
   "source": [
    "def submatrix (matrix, indexes):\n",
    "    a = [[matrix[i][j] for i in indexes] for j in indexes]\n",
    "    return a\n",
    "\n",
    "def norm(matrix_a):\n",
    "    mat_max, mat_min = matrix_a.max(), matrix_a.min()\n",
    "    matrix_a = (matrix_a - mat_min)/(mat_max - mat_min)\n",
    "    return matrix_a\n",
    "\n",
    "def fairness_matrix(matrix_a, *attributes, ts_reduction=\"mean\"):\n",
    "    # calculate the conditional probs for every group \n",
    "    if (ts_reduction == \"mean\"):\n",
    "        if matrix_a.mean(axis = 1) != 0:\n",
    "            fair_array = attributes[0].mean(axis = 1)/matrix_a.mean(axis = 1)\n",
    "        else: \n",
    "            fair_array.append(0)\n",
    "    elif (ts_reduction == \"last\"):\n",
    "        fair_array = []\n",
    "        for i in range(0,len(matrix_a)):\n",
    "            if matrix_a[i][-1] != 0:\n",
    "                lst_ele = attributes[0][i][-1]/matrix_a[i][-1]\n",
    "                fair_array.append(lst_ele)\n",
    "            else: \n",
    "                fair_array.append(0)\n",
    "    fair_array = np.array(fair_array)\n",
    "    # make a fairness matrix (A_ij = |P_i - P_j|)\n",
    "    fair_m = np.zeros((len(matrix_a),len(matrix_a)))\n",
    "    for i in range(0, len(matrix_a)):\n",
    "        for j in range(0, len(matrix_a)):\n",
    "            fair_m[i][j] = abs(fair_array[i] - fair_array[j])\n",
    "    return fair_m\n",
    "\n",
    "\n",
    "def sts_matrix(matrix_a, time_period = 1):\n",
    "    # calculate the sts matrix\n",
    "    sts_m = zeros((len(matrix_a),len(matrix_a)))\n",
    "    for i in range(0, len(matrix_a)):\n",
    "        for j in range(0,len(matrix_a)):\n",
    "            sts_sum = []\n",
    "            for k in range(0,len(matrix_a[j])-1):\n",
    "                # sts corresponds to the square root of the sum of the squared \n",
    "                # differences of the slopes obtained by considering time-series as linear \n",
    "                # functions between measurements\n",
    "                sts_1 = (matrix_a[i][k+1] - matrix_a[i][k])/time_period\n",
    "                sts_2 = (matrix_a[j][k+1] - matrix_a[j][k])/time_period\n",
    "                sts = abs(sts_1 - sts_2)\n",
    "                sts_sum.append(sts)\n",
    "            sts_m[i][j] = sum(sts_sum)\n",
    "    return sts_m\n",
    "\n",
    "\n",
    "def distance(fairness_matrix, sts_matrix, a , normalize = True):\n",
    "    # calculate distance d = sts + alpha * fairness\n",
    "\n",
    "    if normalize == True: \n",
    "        fairness_matrix = norm(fairness_matrix)\n",
    "        sts_matrix = norm(sts_matrix)\n",
    "    \n",
    "    else:\n",
    "        fairness_matrix = np.multiply(a, fairness_matrix)\n",
    "        distance_m = sts_matrix + fairness_matrix\n",
    "        distance_m = norm(distance_m)\n",
    "        \n",
    "    return distance_m"
   ]
  },
  {
   "cell_type": "code",
   "execution_count": 3,
   "metadata": {},
   "outputs": [],
   "source": [
    "def hirarchical_forecast (df, agg_level, disagg_level, aggregation_match):\n",
    "    ''' method that performs hirarchical_forecast. \n",
    "    Parameters: df - dataframe that needs to be forecasted\n",
    "                agg_level - list of aggregate columns\n",
    "                disagg_level - list of disagg_level\n",
    "                aggregation match - dictionary of matches of agg-disagg groups (e.g., )'''\n",
    "\n",
    "    \n",
    "    # add total column for df if it doesnt exist\n",
    "    if 'total' not in df.columns:\n",
    "        df['total'] = df[agg_level].sum(axis=1)\n",
    "\n",
    "    # forecast for the aggregate groups - train set 20; test set 5\n",
    "    pred_results = []\n",
    "    for agg_cl in agg_level:\n",
    "        train = df[agg_cl].iloc[0:-5]\n",
    "        fit = Holt(train, initialization_method=\"heuristic\").fit()\n",
    "        pred = fit.forecast(5)\n",
    "        df_pred = pd.DataFrame(pred)\n",
    "        df_pred = df_pred.rename({0:agg_cl}, axis = 1)\n",
    "        pred_results.append(df_pred)\n",
    "    # merge the the aggregate groups together\n",
    "    pred = pd.concat(pred_results, axis=1)\n",
    "    \n",
    "    # get the forecast of total\n",
    "    pred['total'] = pred[agg_level].sum(axis=1)\n",
    "    # top-down to forecast the disaggregate races\n",
    "    for agg in agg_level:\n",
    "        for disagg in aggregation_match[agg]:\n",
    "            prop = df[disagg].mean()/df[agg].mean()\n",
    "            pred[disagg] = prop*pred[agg]\n",
    "\n",
    "    return pred \n",
    "\n",
    "    \n",
    "def find_indices(list_to_check, item_to_find):\n",
    "    indices = []\n",
    "    for idx, value in enumerate(list_to_check):\n",
    "        if value == item_to_find:\n",
    "            indices.append(idx)\n",
    "    return indices\n",
    "\n",
    "def submatrix (matrix, indexes):\n",
    "    a = [[matrix[i][j] for i in indexes] for j in indexes]\n",
    "    return a\n"
   ]
  },
  {
   "cell_type": "code",
   "execution_count": 4,
   "metadata": {},
   "outputs": [],
   "source": [
    "def hirarchical_k_medoids(W,curr,size):\n",
    "    '''function used to hirarchically cluster elements besed on the samilarity\n",
    "        param: W - dissimilarity matrix, 2-D matrix\n",
    "            curr - current cluster, 1-D list\n",
    "            size - maximum numbers a cluster can have, an integer\n",
    "    '''\n",
    "    if (len(curr) <= size):\n",
    "        return [curr]\n",
    "    \n",
    "    else: \n",
    "        W_sub = submatrix(W, curr)\n",
    "        bisect_model = KMedoids(n_clusters=2, metric='precomputed', method='pam', init='random', random_state=0).fit(W_sub)\n",
    "        lables = bisect_model.labels_\n",
    "        indexes_set_0 = find_indices(lables, 0)\n",
    "        indexes_set_1 = find_indices(lables, 1)\n",
    "        cluster_0 = [curr[i] for i in indexes_set_0]\n",
    "        cluster_1 = [curr[i] for i in indexes_set_1]\n",
    "        return hirarchical_k_medoids(W,cluster_0,size) + hirarchical_k_medoids(W,cluster_1,size)"
   ]
  },
  {
   "cell_type": "code",
   "execution_count": 214,
   "metadata": {},
   "outputs": [],
   "source": [
    "\n",
    "\n",
    "\n",
    "def draw_hirarchical_k_medoids(W,curr,size):\n",
    "    '''function used to hirarchically cluster elements besed on the samilarity\n",
    "        param: W - dissimilarity matrix, 2-D matrix\n",
    "            curr - current cluster, 1-D list\n",
    "            size - maximum numbers a cluster can have, an integer\n",
    "    '''\n",
    "    if (len(curr) <= size):\n",
    "        return [curr]\n",
    "\n",
    "    else: \n",
    "        W_sub = submatrix(W, curr)\n",
    "        bisect_model = KMedoids(n_clusters=2, metric='precomputed', method='pam', init='random', random_state=0).fit(W_sub)\n",
    "        lables = bisect_model.labels_\n",
    "        indexes_set_0 = find_indices(lables, 0)\n",
    "        indexes_set_1 = find_indices(lables, 1)\n",
    "\n",
    "        cluster_0 = [curr[i] for i in indexes_set_0]\n",
    "        cluster_1 = [curr[i] for i in indexes_set_1]\n",
    "        result = hirarchical_k_medoids(W,cluster_0,size) + hirarchical_k_medoids(W,cluster_1,size)\n",
    "        \n",
    "        return result"
   ]
  },
  {
   "cell_type": "code",
   "execution_count": 216,
   "metadata": {},
   "outputs": [
    {
     "data": {
      "text/plain": [
       "[[67],\n",
       " [6, 9, 22, 23],\n",
       " [0, 2, 7, 8, 10, 11, 13, 15, 24, 34, 36, 39, 44, 68],\n",
       " [14],\n",
       " [16, 17, 30, 47],\n",
       " [4, 12, 21, 25, 28, 31, 32, 40, 41, 43, 46, 53, 58],\n",
       " [1],\n",
       " [19],\n",
       " [18],\n",
       " [33, 48, 49, 50, 51, 52, 56, 59, 60, 61, 62, 63, 64, 65, 66],\n",
       " [3, 20, 26, 27, 29, 35, 37, 42, 45, 54, 55, 57],\n",
       " [38],\n",
       " [5]]"
      ]
     },
     "execution_count": 216,
     "metadata": {},
     "output_type": "execute_result"
    }
   ],
   "source": [
    "# read data\n",
    "df_enroll = pd.read_csv('C:/Users/Shuyu/Documents/research/OneDrive/research/Forecasting Paper/Data/enrollment_gender/model_1/e_model_1.csv')\n",
    "df_female = pd.read_csv('C:/Users/Shuyu/Documents/research/OneDrive/research/Forecasting Paper/Data/enrollment_gender/model_1/f_model_1.csv')\n",
    "\n",
    "cols = list(df_enroll.columns)\n",
    "cols.remove('year')\n",
    "array_enroll = df_enroll[cols]\n",
    "array_female = df_female[cols]\n",
    "\n",
    "array_enroll = array_enroll.T.values\n",
    "array_female = array_female.T.values\n",
    "\n",
    "# get the fairness matrix and the sts matrix\n",
    "fair_m = fairness_matrix(array_enroll, array_female, ts_reduction=\"last\")\n",
    "fair_m = norm(fair_m)\n",
    "sts_m = sts_matrix(array_enroll)\n",
    "\n",
    "\n",
    "distance_m = distance(fair_m, sts_m, a = 0, normalize=False)\n",
    "initial_c = list(range(0,len(distance_m)))\n",
    "draw_hirarchical_k_medoids(distance_m, initial_c, 15)"
   ]
  },
  {
   "cell_type": "code",
   "execution_count": 237,
   "metadata": {},
   "outputs": [],
   "source": [
    "# read data\n",
    "df_enroll = pd.read_csv('C:/Users/Shuyu/Documents/research/OneDrive/research/Forecasting Paper/Data/enrollment_gender/model_1/e_model_1.csv')\n",
    "df_female = pd.read_csv('C:/Users/Shuyu/Documents/research/OneDrive/research/Forecasting Paper/Data/enrollment_gender/model_1/f_model_1.csv')\n",
    "\n",
    "cols = list(df_enroll.columns)\n",
    "cols.remove('year')\n",
    "array_enroll = df_enroll[cols]\n",
    "array_female = df_female[cols]\n",
    "\n",
    "array_enroll = array_enroll.T.values\n",
    "array_female = array_female.T.values\n",
    "\n",
    "# get the fairness matrix and the sts matrix\n",
    "fair_m = fairness_matrix(array_enroll, array_female, ts_reduction=\"last\")\n",
    "fair_m = norm(fair_m)\n",
    "sts_m = sts_matrix(array_enroll)\n",
    "\n",
    "cluster_check = []\n",
    "aggregation_matches = {}\n",
    "clusters_number = []\n",
    "for mu in range(0, 100000):\n",
    "\n",
    "    distance_m = distance(fair_m, sts_m, a = mu, normalize=False)\n",
    "    initial_c = list(range(0,len(distance_m)))\n",
    "    # hirarchical clustering process\n",
    "    s = hirarchical_k_medoids(distance_m, initial_c, 15)\n",
    "    # make an list \n",
    "    c_lables = [0] * len(distance_m)\n",
    "\n",
    "    for i in range(0,len(s)):\n",
    "        for j in range(0,len(s[i])):\n",
    "            index = s[i][j]\n",
    "            c_lables[index] = i\n",
    "    if (cluster_check != c_lables):        \n",
    "        # record the number of clusters\n",
    "        cluster_number = len(s)\n",
    "        clusters_number.append(cluster_number)\n",
    "    ############# to make datasets for model 3 ###############\n",
    "        aggregation_match = {}\n",
    "        agg_levels = []\n",
    "        labels = array(c_lables)\n",
    "        clusters = list(unique(labels))\n",
    "\n",
    "        # make match of agrgegation\n",
    "        for c in clusters: \n",
    "            indexes = find_indices(labels, c)\n",
    "            agg_race_name = 'a_race_' + str(c)\n",
    "            agg_levels.append(agg_race_name)\n",
    "            disagg_race_set = []\n",
    "            for i in indexes: \n",
    "                disagg_race_name = 'race_' + str(i)\n",
    "                disagg_race_set.append(disagg_race_name)\n",
    "            aggregation_match[agg_race_name] = disagg_race_set\n",
    "\n",
    "        \n",
    "        match = {w: k for k, v in aggregation_match.items() for w in v}\n",
    "        df_enroll_model_3 = df_enroll.groupby(by=match,axis=1).sum() \n",
    "        df_enroll_model_3 = pd.concat([df_enroll_model_3, df_enroll], axis=1, join=\"inner\")\n",
    "        # make it time series\n",
    "        index = pd.date_range(start=\"1995-01-01\", end=\"2020\", freq=\"A-Jan\")\n",
    "        df_enroll_model_3 = df_enroll_model_3.set_index(index)\n",
    "        df_enroll_model_3 = df_enroll_model_3.drop('year', axis = 1)\n",
    "        name_enroll = 'e_model_3_' + str(mu) + '.csv'\n",
    "        # path_enroll = 'C:/Users/Shuyu/Documents/research/OneDrive/research/Forecasting Paper/Data/enrollment_gender/model_3/'+ name_enroll\n",
    "        path_enroll = 'C:/Users/Shuyu/Documents/research/OneDrive/research/Forecasting Paper/Data/enrollment_gender/model_3/unfair/'+ name_enroll\n",
    "        df_enroll_model_3.to_csv(path_enroll)\n",
    "        \n",
    "        df_female_model_3 =  df_female.groupby(by=match,axis=1).sum() \n",
    "        df_female_model_3 = pd.concat([df_female_model_3,  df_female], axis=1, join=\"inner\")\n",
    "        # make it time series\n",
    "        index = pd.date_range(start=\"1995-01-01\", end=\"2020\", freq=\"A-Jan\")\n",
    "        df_female_model_3 = df_female_model_3.set_index(index)\n",
    "        df_female_model_3 = df_female_model_3.drop('year', axis = 1)\n",
    "        name_female = 'f_model_3_' + str(mu) + '.csv'\n",
    "        # path_female = 'C:/Users/Shuyu/Documents/research/OneDrive/research/Forecasting Paper/Data/enrollment_gender/model_3/'+ name_female\n",
    "        path_female = 'C:/Users/Shuyu/Documents/research/OneDrive/research/Forecasting Paper/Data/enrollment_gender/model_3/unfair/'+ name_female\n",
    "\n",
    "        df_female_model_3.to_csv(path_female)\n",
    "        \n",
    "        str_mu = str(mu)\n",
    "        aggregation_matches[mu] = aggregation_match\n",
    "        cluster_check = c_lables\n"
   ]
  },
  {
   "cell_type": "markdown",
   "metadata": {},
   "source": [
    "Forecast & evaluation"
   ]
  },
  {
   "cell_type": "code",
   "execution_count": 256,
   "metadata": {},
   "outputs": [],
   "source": [
    "# Evaluation functions fore forecast accuracy\n",
    "\n",
    "def mape(y_test, pred):\n",
    "    y_test, pred = np.array(y_test), np.array(pred)\n",
    "    mape = np.mean(np.abs((y_test - pred) / y_test))\n",
    "    return mape\n",
    "\n",
    "def avg_mape(df_test, df_pred, columns):\n",
    "    mapes = []\n",
    "    for l in columns:\n",
    "        test = df_test[l].iloc[-5:]\n",
    "        pred = df_pred[l].iloc[-5:]\n",
    "        mapp = mape(test, pred)\n",
    "        mapes.append(mapp)\n",
    "    avgmape = mean(mapes)\n",
    "    return avgmape\n",
    "\n",
    "def mapes(df_test, df_pred, columns):\n",
    "    mapes = []\n",
    "    for l in columns:\n",
    "        test = df_test[l].iloc[-5:]\n",
    "        pred = df_pred[l].iloc[-5:]\n",
    "        mapp = mape(test, pred)\n",
    "        mapes.append(mapp)\n",
    "    return mapes\n",
    "\n",
    "def wmape(y_test,pred):\n",
    "    y_test, pred = np.array(y_test), np.array(pred)\n",
    "    deno = np.abs(y_test).sum()\n",
    "    num = np.abs(y_test - pred).sum()\n",
    "    if deno != 0:\n",
    "        wmape = num/deno\n",
    "    else:\n",
    "        wmape = 0\n",
    "    return wmape\n",
    "\n",
    "def avg_wmape(df_test, df_pred, columns):\n",
    "    wmapes = []\n",
    "    for l in columns:\n",
    "        test = df_test[l].iloc[-5:]\n",
    "        pred = df_pred[l].iloc[-5:]\n",
    "        wmap = wmape(test, pred)\n",
    "        wmapes.append(wmap)\n",
    "    avgwmape = mean(wmapes)\n",
    "    return avgwmape\n",
    "\n",
    "def wmapes(df_test, df_pred, columns):\n",
    "    wmapes = []\n",
    "    for l in columns:\n",
    "        test = df_test[l].iloc[-5:]\n",
    "        pred = df_pred[l].iloc[-5:]\n",
    "        wmap = wmape(test, pred)\n",
    "        wmapes.append(wmap)\n",
    "    return wmapes\n",
    "\n",
    "def diff_accuracy(df_test, df_pred, columns, metric):\n",
    "    if metric ==  'wmapes':\n",
    "        lst = wmapes(df_test, df_pred, columns)\n",
    "    elif metric == 'mapes':\n",
    "        lst = mapes(df_test, df_pred, columns)\n",
    "    \n",
    "    # create a list to store the diffrences of accuracys \n",
    "    diff_accs = []\n",
    "    combs = list(itertools.combinations(lst, 2))\n",
    "    for x in combs:\n",
    "        diff = abs(x[1] - x[0])\n",
    "        diff_accs.append(diff)\n",
    "        \n",
    "    diff_acc = mean(diff_accs)\n",
    "    return diff_acc"
   ]
  },
  {
   "cell_type": "code",
   "execution_count": null,
   "metadata": {},
   "outputs": [],
   "source": []
  },
  {
   "cell_type": "markdown",
   "metadata": {},
   "source": [
    "##### forecast for model 1"
   ]
  },
  {
   "cell_type": "code",
   "execution_count": 233,
   "metadata": {},
   "outputs": [
    {
     "name": "stdout",
     "output_type": "stream",
     "text": [
      "mape at total level:  0.02743564023007523\n",
      "wmape at disagg level 0.08290806535742655\n"
     ]
    }
   ],
   "source": [
    "df_enroll_m1 = pd.read_csv('C:/Users/Shuyu/Documents/research/OneDrive/research/Forecasting Paper/Data/enrollment_gender/model_1/e_model_1.csv')\n",
    "disagg_level = [c for c in df_enroll_m1.columns if c.count('_') == 1] \n",
    "\n",
    "# get the total value\n",
    "df_enroll_m1['total'] = df_enroll_m1[disagg_level].sum(axis=1)\n",
    "# forcast for total\n",
    "pred_results = []\n",
    "\n",
    "# forecasts for disaggregate level\n",
    "for disagg_cl in disagg_level:\n",
    "    train = df_enroll_m1[disagg_cl].iloc[0:-5]\n",
    "    fit = Holt(train, initialization_method=\"heuristic\").fit()\n",
    "    pred = fit.forecast(5)\n",
    "    df_pred = pd.DataFrame(pred)\n",
    "    df_pred = df_pred.rename({0:disagg_cl}, axis = 1)\n",
    "    pred_results.append(df_pred)\n",
    "\n",
    "# forecasts for total level\n",
    "train = df_enroll_m1['total'].iloc[0:-5]\n",
    "fit =  Holt(train, initialization_method=\"heuristic\").fit()\n",
    "pred = fit.forecast(5)\n",
    "df_pred = pd.DataFrame(pred)\n",
    "df_pred = df_pred.rename({0:'total'}, axis = 1)\n",
    "pred_results.append(df_pred)\n",
    "pred_m_1 = pd.concat(pred_results, axis=1)\n",
    "\n",
    "\n",
    "# evaluation\n",
    "total_test = df_enroll_m1['total'].iloc[-5:]\n",
    "total_pred = pred_m_1['total'].iloc[-5:]\n",
    "print(\"mape at total level: \" , mape(total_test, total_pred))\n",
    "\n",
    "print('wmape at disagg level', avg_wmape(df_enroll_m1, pred_m_1, disagg_level))\n",
    "\n",
    "df_enroll_m1_wmapes = wmapes(df_enroll_m1, pred_m_1, disagg_level)\n"
   ]
  },
  {
   "cell_type": "markdown",
   "metadata": {},
   "source": [
    "##### forecast for model 2"
   ]
  },
  {
   "cell_type": "code",
   "execution_count": 230,
   "metadata": {},
   "outputs": [],
   "source": [
    "aggregation_match_m_2 = {'a_race_0': ['race_0',\n",
    "  'race_1',\n",
    "  'race_2',\n",
    "  'race_3'],\n",
    " 'a_race_1': ['race_4',\n",
    "  'race_5',\n",
    "  'race_6',\n",
    "  'race_7',\n",
    "  'race_8'],\n",
    " 'a_race_2': ['race_9'],\n",
    " 'a_race_4': ['race_10',\n",
    "  'race_11',\n",
    "  'race_12',\n",
    "  'race_13',\n",
    "  'race_14',\n",
    "  'race_15',\n",
    "  'race_16',\n",
    "  'race_17',\n",
    "  'race_18',\n",
    "  'race_19',\n",
    "  'race_20',\n",
    "  'race_21',\n",
    "  'race_22',\n",
    "  'race_23',\n",
    "  'race_24',\n",
    "  'race_25',\n",
    "  'race_26'],\n",
    " 'a_race_3': ['race_27',\n",
    "  'race_28',\n",
    "  'race_29',\n",
    "  'race_30',\n",
    "  'race_31',\n",
    "  'race_32',\n",
    "  'race_33'],\n",
    " 'a_race_5': ['race_34',\n",
    "  'race_35',\n",
    "  'race_36',\n",
    "  'race_37',\n",
    "  'race_38',\n",
    "  'race_39',\n",
    "  'race_40',\n",
    "  'race_41',\n",
    "  'race_42',\n",
    "  'race_43',\n",
    "  'race_44',\n",
    "  'race_45',\n",
    "  'race_46',\n",
    "  'race_47',\n",
    "  'race_48',\n",
    "  'race_49',\n",
    "  'race_50',\n",
    "  'race_51',\n",
    "  'race_52',\n",
    "  'race_53',\n",
    "  'race_54',\n",
    "  'race_55',\n",
    "  'race_56',\n",
    "  'race_57',\n",
    "  'race_58',\n",
    "  'race_59',\n",
    "  'race_60',\n",
    "  'race_61',\n",
    "  'race_62',\n",
    "  'race_63',\n",
    "  'race_64',\n",
    "  'race_65',\n",
    "  'race_66'],\n",
    " 'a_race_6': ['race_67', 'race_68']}"
   ]
  },
  {
   "cell_type": "code",
   "execution_count": 234,
   "metadata": {},
   "outputs": [
    {
     "name": "stdout",
     "output_type": "stream",
     "text": [
      "mape at total level:  0.025687924713504433\n",
      "mape at aggre level:  0.023028016395159685\n",
      "wmape at disagg level 0.07881867333748031\n"
     ]
    }
   ],
   "source": [
    "\n",
    "df_enroll_m2 = pd.read_csv('C:/Users/Shuyu/Documents/research/OneDrive/research/Forecasting Paper/Data/enrollment_gender/model_2/e_model_2.csv')\n",
    "disagg_level = [c for c in df_enroll_m2.columns if c.count('_') == 1] \n",
    "agg_level = [c for c in df_enroll_m2.columns if c.count('_') == 2] \n",
    "\n",
    "pred_m_2 = hirarchical_forecast(df_enroll_m2, agg_level, disagg_level, aggregation_match_m_2)\n",
    "\n",
    "# get the total value for test set\n",
    "df_enroll_m2['total'] = df_enroll_m2[disagg_level].sum(axis=1)\n",
    "\n",
    "# evaluation\n",
    "total_test = df_enroll_m2['total'].iloc[-5:]\n",
    "total_pred = pred_m_2['total'].iloc[-5:]\n",
    "print(\"mape at total level: \" , mape(total_test, total_pred))\n",
    "print(\"mape at aggre level: \" , avg_mape(df_enroll_m2, pred_m_2, agg_level))\n",
    "\n",
    "print('wmape at disagg level', avg_wmape(df_enroll_m2, pred_m_2, disagg_level))\n",
    "df_enroll_m2_wmapes = wmapes(df_enroll_m2, pred_m_2, disagg_level)\n",
    "df_enroll_m2_mapes = mapes(df_enroll_m2, pred_m_2, agg_level)"
   ]
  },
  {
   "cell_type": "markdown",
   "metadata": {},
   "source": [
    "##### forecast for model 3 (mu = 0)"
   ]
  },
  {
   "cell_type": "code",
   "execution_count": 20,
   "metadata": {},
   "outputs": [],
   "source": [
    "import warnings\n",
    "warnings.filterwarnings(\"ignore\")"
   ]
  },
  {
   "cell_type": "code",
   "execution_count": 240,
   "metadata": {},
   "outputs": [
    {
     "name": "stdout",
     "output_type": "stream",
     "text": [
      "mape at total level:  0.026342856630864348\n",
      "mape at aggre level:  0.03058068926920942\n",
      "wmape at disagg level 0.0799952640056141\n"
     ]
    }
   ],
   "source": [
    "mu = 0\n",
    "# file_name = 'C:/Users/Shuyu/Documents/research/OneDrive/research/Forecasting Paper/Data/enrollment_gender/model_3/e_model_3_' + str(mu) + \".csv\"\n",
    "file_name = 'C:/Users/Shuyu/Documents/research/OneDrive/research/Forecasting Paper/Data/enrollment_gender/model_3/unfair/e_model_3_' + str(mu) + \".csv\"\n",
    "\n",
    "df_enroll_m3 = pd.read_csv(file_name, index_col=[0])\n",
    "disagg_level = [c for c in df_enroll_m3.columns if c.count('_') == 1] \n",
    "agg_level = [c for c in df_enroll_m3.columns if c.count('_') == 2] \n",
    "aggregation_match_m_3 = aggregation_matches[mu]\n",
    "pred_m_3 = hirarchical_forecast(df_enroll_m3, agg_level, disagg_level, aggregation_match_m_3)\n",
    "\n",
    "# get the total value for test set\n",
    "df_enroll_m3['total'] = df_enroll_m3[disagg_level].sum(axis=1)\n",
    "\n",
    "# evaluation\n",
    "total_test = df_enroll_m3['total'].iloc[-5:]\n",
    "total_pred = pred_m_3['total'].iloc[-5:]\n",
    "print(\"mape at total level: \" , mape(total_test, total_pred))\n",
    "print(\"mape at aggre level: \" , avg_mape(df_enroll_m3, pred_m_3, agg_level))\n",
    "print('wmape at disagg level', avg_wmape(df_enroll_m3, pred_m_3, disagg_level))\n",
    "\n",
    "df_enroll_m3_wmapes_0 = wmapes(df_enroll_m3, pred_m_3, disagg_level)\n",
    "df_enroll_m3_mapes_0 = mapes(df_enroll_m3, pred_m_3, agg_level)\n"
   ]
  },
  {
   "cell_type": "code",
   "execution_count": 238,
   "metadata": {},
   "outputs": [
    {
     "name": "stdout",
     "output_type": "stream",
     "text": [
      "mape at total level:  0.026548338836984115\n",
      "mape at aggre level:  0.08411847349564304\n",
      "wmape at disagg level 0.08097576308778753\n"
     ]
    }
   ],
   "source": [
    "mu = 63577\n",
    "# file_name = 'C:/Users/Shuyu/Documents/research/OneDrive/research/Forecasting Paper/Data/enrollment_gender/model_3/e_model_3_' + str(mu) + \".csv\"\n",
    "file_name = 'C:/Users/Shuyu/Documents/research/OneDrive/research/Forecasting Paper/Data/enrollment_gender/model_3/unfair/e_model_3_' + str(mu) + \".csv\"\n",
    "\n",
    "df_enroll_m3 = pd.read_csv(file_name, index_col=[0])\n",
    "disagg_level = [c for c in df_enroll_m3.columns if c.count('_') == 1] \n",
    "agg_level = [c for c in df_enroll_m3.columns if c.count('_') == 2] \n",
    "aggregation_match_m_3 = aggregation_matches[mu]\n",
    "pred_m_3 = hirarchical_forecast(df_enroll_m3, agg_level, disagg_level, aggregation_match_m_3)\n",
    "\n",
    "# get the total value for test set\n",
    "df_enroll_m3['total'] = df_enroll_m3[disagg_level].sum(axis=1)\n",
    "\n",
    "# evaluation\n",
    "total_test = df_enroll_m3['total'].iloc[-5:]\n",
    "total_pred = pred_m_3['total'].iloc[-5:]\n",
    "print(\"mape at total level: \" , mape(total_test, total_pred))\n",
    "print(\"mape at aggre level: \" , avg_mape(df_enroll_m3, pred_m_3, agg_level))\n",
    "print('wmape at disagg level', avg_wmape(df_enroll_m3, pred_m_3, disagg_level))\n",
    "\n",
    "df_enroll_m3_wmapes_63577 = wmapes(df_enroll_m3, pred_m_3, disagg_level)\n",
    "df_enroll_m3_mapes_63577 = mapes(df_enroll_m3, pred_m_3, agg_level)"
   ]
  },
  {
   "cell_type": "code",
   "execution_count": 249,
   "metadata": {},
   "outputs": [
    {
     "data": {
      "text/plain": [
       "<matplotlib.legend.Legend at 0x14fa16edf10>"
      ]
     },
     "execution_count": 249,
     "metadata": {},
     "output_type": "execute_result"
    },
    {
     "data": {
      "image/png": "[encoded data removed]",
      "text/plain": [
       "<Figure size 960x640 with 1 Axes>"
      ]
     },
     "metadata": {
      "needs_background": "light"
     },
     "output_type": "display_data"
    }
   ],
   "source": [
    "index = []\n",
    "for i in range(0,len(df_enroll_m3_wmapes)):\n",
    "    index.append(i)\n",
    "\n",
    "plt.figure(figsize=(12, 8), dpi=80)\n",
    "\n",
    "\n",
    "graph = sns.scatterplot(index, df_enroll_m3_wmapes_0, ci=None, color='orange', marker = 'o', label = 'Fair aggregation models with ' + r'$\\mu = 0$',s=30)\n",
    "sns.scatterplot(index, df_enroll_m3_wmapes_63577, ci=None, color='salmon', marker = 'o', label = 'Fair aggregation models with ' + r'$\\mu \\geq 63577$',s=30)\n",
    "\n",
    "sns.scatterplot(index, df_enroll_m2_wmapes, ci=None, color='olivedrab', marker = 'o',  label = 'Standard aggregation model',s=30)\n",
    "sns.scatterplot(index, df_enroll_m1_wmapes, ci=None, color='lightseagreen', marker = 'o', label = 'Disaggregation model',s=30)\n",
    "\n",
    "# graph.axhline(0.027, color='lightblue')\n",
    "# graph.axhline(0.083, color='lightblue', label = 'Disaggregation model')\n",
    "\n",
    "# graph.axhline(0.079, color='lightpink')\n",
    "# graph.axhline(0.051, color='lightpink')\n",
    "# graph.axhline(0.026, color='lightpink', label = 'standard aggregation model')\n",
    "\n",
    "\n",
    "plt.xlabel('Group index')\n",
    "plt.ylabel('WMAPE')\n",
    "graph.legend(loc = 'best')\n"
   ]
  },
  {
   "cell_type": "code",
   "execution_count": 251,
   "metadata": {},
   "outputs": [
    {
     "data": {
      "text/plain": [
       "<matplotlib.legend.Legend at 0x14fa1e67880>"
      ]
     },
     "execution_count": 251,
     "metadata": {},
     "output_type": "execute_result"
    },
    {
     "data": {
      "image/png": "[encoded data removed]",
      "text/plain": [
       "<Figure size 960x480 with 1 Axes>"
      ]
     },
     "metadata": {
      "needs_background": "light"
     },
     "output_type": "display_data"
    }
   ],
   "source": [
    "plt.figure(figsize=(12, 6), dpi=80)\n",
    "\n",
    "index = []\n",
    "for i in range(0,len(df_enroll_m3_mapes_0)):\n",
    "    index.append(i)\n",
    "    \n",
    "graph = sns.scatterplot(index, df_enroll_m3_mapes_0, ci=None, color='orange', marker = 'o', label = 'Fair aggregation models with ' + r'$\\mu = 0$',s=30)\n",
    "\n",
    "index = []\n",
    "for i in range(0,len(df_enroll_m3_mapes_63577)):\n",
    "    index.append(i)\n",
    "sns.scatterplot(index, df_enroll_m3_mapes_63577, ci=None, color='salmon', marker = 'o', label = 'Fair aggregation models with ' + r'$\\mu \\geq 63577$',s=30)\n",
    "index = []\n",
    "for i in range(0,len(df_enroll_m2_mapes)):\n",
    "    index.append(i)\n",
    "sns.scatterplot(index, df_enroll_m2_mapes, ci=None, color='olivedrab', marker = 'o',  label = 'Standard aggregation model',s=30)\n",
    "\n",
    "# graph.axhline(0.027, color='lightblue')\n",
    "# graph.axhline(0.083, color='lightblue', label = 'Disaggregation model')\n",
    "\n",
    "# graph.axhline(0.079, color='lightpink')\n",
    "# graph.axhline(0.051, color='lightpink')\n",
    "# graph.axhline(0.026, color='lightpink', label = 'standard aggregation model')\n",
    "\n",
    "\n",
    "plt.xlabel('Group index')\n",
    "plt.ylabel('MAPE')\n",
    "graph.legend(loc = 'best')\n"
   ]
  },
  {
   "cell_type": "code",
   "execution_count": 631,
   "metadata": {},
   "outputs": [
    {
     "name": "stdout",
     "output_type": "stream",
     "text": [
      "mape at total level:  0.026548338836984115\n",
      "mape at aggre level:  0.08411847349564304\n",
      "wmape at disagg level 0.08097576308778753\n"
     ]
    }
   ],
   "source": [
    "mu = 63580\n",
    "#file_name = 'C:/Users/Shuyu/Documents/research/OneDrive/research/Forecasting Paper/Data/enrollment_gender/model_3/e_model_3_' + str(mu) + \".csv\"\n",
    "file_name = 'C:/Users/Shuyu/Documents/research/OneDrive/research/Forecasting Paper/Data/enrollment_gender/model_3/unfair/e_model_3_' + str(mu) + \".csv\"\n",
    "\n",
    "df_enroll_m3 = pd.read_csv(file_name, index_col=[0])\n",
    "disagg_level = [c for c in df_enroll_m3.columns if c.count('_') == 1] \n",
    "agg_level = [c for c in df_enroll_m3.columns if c.count('_') == 2] \n",
    "aggregation_match_m_3 = aggregation_matches[mu]\n",
    "pred_m_3 = hirarchical_forecast(df_enroll_m3, agg_level, disagg_level, aggregation_match_m_3)\n",
    "\n",
    "# get the total value for test set\n",
    "df_enroll_m3['total'] = df_enroll_m3[disagg_level].sum(axis=1)\n",
    "\n",
    "# evaluation\n",
    "total_test = df_enroll_m3['total'].iloc[-5:]\n",
    "total_pred = pred_m_3['total'].iloc[-5:]\n",
    "print(\"mape at total level: \" , mape(total_test, total_pred))\n",
    "print(\"mape at aggre level: \" , avg_mape(df_enroll_m3, pred_m_3, agg_level))\n",
    "print('wmape at disagg level', avg_wmape(df_enroll_m3, pred_m_3, disagg_level))"
   ]
  },
  {
   "cell_type": "code",
   "execution_count": 270,
   "metadata": {},
   "outputs": [
    {
     "data": {
      "text/plain": [
       "0.01024642003855045"
      ]
     },
     "execution_count": 270,
     "metadata": {},
     "output_type": "execute_result"
    }
   ],
   "source": [
    "diff_accuracy(df_enroll_m2, pred_m_2, agg_level, 'mapes')\n"
   ]
  },
  {
   "cell_type": "code",
   "execution_count": 268,
   "metadata": {},
   "outputs": [
    {
     "data": {
      "text/plain": [
       "<matplotlib.legend.Legend at 0x14f9f342130>"
      ]
     },
     "execution_count": 268,
     "metadata": {},
     "output_type": "execute_result"
    },
    {
     "data": {
      "image/png": "[encoded data removed]",
      "text/plain": [
       "<Figure size 800x480 with 1 Axes>"
      ]
     },
     "metadata": {
      "needs_background": "light"
     },
     "output_type": "display_data"
    }
   ],
   "source": [
    "diff_accuracys = []\n",
    "mus = []\n",
    "for mu in aggregation_matches:\n",
    "    mus.append(mu)\n",
    "    file_name = 'C:/Users/Shuyu/Documents/research/OneDrive/research/Forecasting Paper/Data/enrollment_gender/model_3/unfair/e_model_3_' + str(mu) + \".csv\"\n",
    "    df_enroll_m3 = pd.read_csv(file_name, index_col=[0])\n",
    "    disagg_level = [c for c in df_enroll_m3.columns if c.count('_') == 1] \n",
    "    agg_level = [c for c in df_enroll_m3.columns if c.count('_') == 2] \n",
    "    aggregation_match_m_3 = aggregation_matches[mu]\n",
    "    pred_m_3 = hirarchical_forecast(df_enroll_m3, agg_level, disagg_level, aggregation_match_m_3)\n",
    "    acc = diff_accuracy(df_enroll_m3, pred_m_3, disagg_level, 'wmapes')\n",
    "    diff_accuracys.append(acc)\n",
    "\n",
    "index = []\n",
    "for i in (range(0,len(mus))):\n",
    "    index.append(i)\n",
    "\n",
    "    \n",
    "plt.figure(figsize=(10,6), dpi=80)\n",
    "\n",
    "g = sns.scatterplot(index, diff_accuracys, ci=None, color='darkcyan', marker = 'o', label = 'Fair aggregation models')\n",
    "g.axhline(0.08868399010900163, color='lightpink', label = 'standard aggregation model')\n",
    "g.axhline(0.08671812258547734, color='lightblue', label = 'disaggregation model')\n",
    "\n",
    "plt.xlabel(r'$\\mu$' + ' (scaled)')\n",
    "plt.ylabel('Average difference of WMAPE')\n",
    "plt.legend()"
   ]
  },
  {
   "cell_type": "code",
   "execution_count": null,
   "metadata": {},
   "outputs": [],
   "source": [
    "diff_accuracys = []\n",
    "mus = []\n",
    "for mu in aggregation_matches:\n",
    "    mus.append(mu)\n",
    "    file_name = 'C:/Users/Shuyu/Documents/research/OneDrive/research/Forecasting Paper/Data/enrollment_gender/model_3/unfair/e_model_3_' + str(mu) + \".csv\"\n",
    "    df_enroll_m3 = pd.read_csv(file_name, index_col=[0])\n",
    "    disagg_level = [c for c in df_enroll_m3.columns if c.count('_') == 1] \n",
    "    agg_level = [c for c in df_enroll_m3.columns if c.count('_') == 2] \n",
    "    aggregation_match_m_3 = aggregation_matches[mu]\n",
    "    pred_m_3 = hirarchical_forecast(df_enroll_m3, agg_level, disagg_level, aggregation_match_m_3)\n",
    "    acc = diff_accuracy(df_enroll_m3, pred_m_3, agg_level, 'mapes')\n",
    "    diff_accuracys.append(acc)\n",
    "\n",
    "index = []\n",
    "for i in (range(0,len(mus))):\n",
    "    index.append(i)\n",
    "\n",
    "    \n",
    "plt.figure(figsize=(10,6), dpi=80)\n",
    "\n",
    "g = sns.scatterplot(index, diff_accuracys, ci=None, color='darkcyan', marker = 'o', label = 'Fair aggregation models')\n",
    "g.axhline(0.01024642003855045, color='lightpink', label = 'standard aggregation model')\n",
    "\n",
    "plt.xlabel(r'$\\mu$' + ' (scaled)')\n",
    "plt.ylabel('Average difference of MAPE')\n",
    "plt.legend()"
   ]
  },
  {
   "cell_type": "code",
   "execution_count": 219,
   "metadata": {},
   "outputs": [],
   "source": [
    "mus = []\n",
    "mapes = []\n",
    "avg_mapes = []\n",
    "avg_wmapes = []\n",
    "for mu in aggregation_matches:\n",
    "    mus.append(mu)\n",
    "    # file_name = 'C:/Users/Shuyu/Documents/research/OneDrive/research/Forecasting Paper/Data/enrollment_gender/model_3/e_model_3_' + str(mu) + \".csv\"\n",
    "    file_name = 'C:/Users/Shuyu/Documents/research/OneDrive/research/Forecasting Paper/Data/enrollment_gender/model_3/unfair/e_model_3_' + str(mu) + \".csv\"\n",
    "    df_enroll_m3 = pd.read_csv(file_name, index_col=[0])\n",
    "    disagg_level = [c for c in df_enroll_m3.columns if c.count('_') == 1] \n",
    "    agg_level = [c for c in df_enroll_m3.columns if c.count('_') == 2] \n",
    "    aggregation_match_m_3 = aggregation_matches[mu]\n",
    "    pred_m_3 = hirarchical_forecast(df_enroll_m3, agg_level, disagg_level, aggregation_match_m_3)\n",
    "\n",
    "    # get the total value for test set\n",
    "    df_enroll_m3['total'] = df_enroll_m3[disagg_level].sum(axis=1)\n",
    "\n",
    "    # evaluation\n",
    "    total_test = df_enroll_m3['total'].iloc[-5:]\n",
    "    total_pred = pred_m_3['total'].iloc[-5:]\n",
    "    mapes.append(mape(total_test, total_pred))\n",
    "    avg_mapes.append(avg_mape(df_enroll_m3, pred_m_3, agg_level))\n",
    "    avg_wmapes.append(avg_wmape(df_enroll_m3, pred_m_3, disagg_level))\n"
   ]
  },
  {
   "cell_type": "code",
   "execution_count": 139,
   "metadata": {},
   "outputs": [
    {
     "data": {
      "text/plain": [
       "<matplotlib.legend.Legend at 0x14f9e38c580>"
      ]
     },
     "execution_count": 139,
     "metadata": {},
     "output_type": "execute_result"
    },
    {
     "data": {
      "image/png": "[encoded data removed]",
      "text/plain": [
       "<Figure size 960x640 with 1 Axes>"
      ]
     },
     "metadata": {
      "needs_background": "light"
     },
     "output_type": "display_data"
    }
   ],
   "source": [
    "index = []\n",
    "for i in range(0,len(mus)):\n",
    "    index.append(i)\n",
    "\n",
    "plt.figure(figsize=(12, 8), dpi=80)\n",
    "\n",
    "\n",
    "graph = sns.scatterplot(index, mapes, ci=None, color='orange', marker = 'o', label = 'Fair aggregation models, total level',s=30)\n",
    "\n",
    "sns.scatterplot(index, avg_mapes, ci=None, color='olivedrab', marker = 'o',  label = 'Fair aggregation models, aggregate level',s=30)\n",
    "sns.scatterplot(index, avg_wmapes, ci=None, color='lightseagreen', marker = 'o', label = 'Fair aggregation models, disaggregate level',s=30)\n",
    "\n",
    "graph.axhline(0.027, color='lightblue')\n",
    "graph.axhline(0.083, color='lightblue', label = 'Disaggregation model')\n",
    "\n",
    "graph.axhline(0.079, color='lightpink')\n",
    "graph.axhline(0.051, color='lightpink')\n",
    "graph.axhline(0.026, color='lightpink', label = 'standard aggregation model')\n",
    "\n",
    "\n",
    "plt.xlabel(r'$\\mu$' + ' (scaled)')\n",
    "plt.ylabel('AvgMAPE or WMAPE')\n",
    "graph.legend(loc = 'best',bbox_to_anchor=(1,0.4))\n"
   ]
  },
  {
   "cell_type": "markdown",
   "metadata": {},
   "source": [
    "fairness evaluation"
   ]
  },
  {
   "cell_type": "code",
   "execution_count": 10,
   "metadata": {},
   "outputs": [],
   "source": [
    "def permutation(df, columns):\n",
    "    perm_lst = []\n",
    "    column_name_lst = []\n",
    "    \n",
    "    perms = list(itertools.combinations(columns, 2))\n",
    "    for p in perms: \n",
    "        col1 = df[p[0]]\n",
    "        col2 = df[p[1]]\n",
    "        perm_lst.append([col1, col2])\n",
    "        column_name_lst.append([p[0],p[1]])\n",
    "    return column_name_lst, perm_lst\n",
    "\n",
    "def stat_disparity(x_1, x_2, a_1, a_2, method = 'last'):\n",
    "    '''function to calculate the statistical disparity\n",
    "        params: x_1, x_2: two arrays - timeseries; a_1, a_2: corresponding attributes\n",
    "        return: \n",
    "    '''\n",
    "    if method == 'mean':\n",
    "        sd = abs(a_1.mean()/x_1.mean() - a_1.mean()/x_1.mean())\n",
    "    elif method == 'last':\n",
    "        sd_array = abs(a_1/x_1 - a_2/x_2)\n",
    "        sd = sd_array[-1]\n",
    "    elif method == 'complete_serie':\n",
    "        sd = abs(a_1/x_1 - a_2/x_2)\n",
    "    return sd\n",
    "\n",
    "def avg_stat_parity (df, df_attribute, columns, method = 'last'):\n",
    "    column_name_lst, perm_lst = permutation(df, columns)\n",
    "    sd_lst = []\n",
    "    for col_pair in column_name_lst:\n",
    "        x_1 = array(df[col_pair[0]])\n",
    "        x_2 = array(df[col_pair[1]])\n",
    "        a_1 = array(df_attribute[col_pair[0]])\n",
    "        a_2 = array(df_attribute[col_pair[1]])\n",
    "        \n",
    "        if method == 'last' or method == 'mean':\n",
    "            sd = stat_disparity(x_1, x_2, a_1, a_2, method = 'last')\n",
    "            sd_lst.append(sd)\n",
    "    avg_sd = sum(sd_lst)/len(column_name_lst)\n",
    "    return avg_sd    "
   ]
  },
  {
   "cell_type": "markdown",
   "metadata": {},
   "source": [
    "For model 2"
   ]
  },
  {
   "cell_type": "code",
   "execution_count": 693,
   "metadata": {},
   "outputs": [
    {
     "name": "stdout",
     "output_type": "stream",
     "text": [
      "0.044194128375415774\n"
     ]
    }
   ],
   "source": [
    "df_enroll_m2 = pd.read_csv('C:/Users/Shuyu/Documents/research/OneDrive/research/Forecasting Paper/Data/enrollment_gender/model_2/e_model_2.csv')\n",
    "df_female_m2 = pd.read_csv('C:/Users/Shuyu/Documents/research/OneDrive/research/Forecasting Paper/Data/enrollment_gender/model_2/f_model_2.csv')\n",
    "agg_level = [c for c in df_enroll_m2.columns if c.count('_') == 2] \n",
    "disagg_level = [c for c in df_enroll_m2.columns if c.count('_') == 1] \n",
    "print(avg_stat_parity(df_enroll_m2, df_female_m2, agg_level, method = 'last'))\n"
   ]
  },
  {
   "cell_type": "markdown",
   "metadata": {},
   "source": [
    "for model 3"
   ]
  },
  {
   "cell_type": "code",
   "execution_count": 135,
   "metadata": {},
   "outputs": [
    {
     "data": {
      "text/plain": [
       "0.053610957106264095"
      ]
     },
     "execution_count": 135,
     "metadata": {},
     "output_type": "execute_result"
    }
   ],
   "source": [
    "mu = 0\n",
    "# file_name_enroll = 'C:/Users/Shuyu/Documents/research/OneDrive/research/Forecasting Paper/Data/enrollment_gender/model_3/e_model_3_' + str(mu) + \".csv\"\n",
    "# file_name_female = 'C:/Users/Shuyu/Documents/research/OneDrive/research/Forecasting Paper/Data/enrollment_gender/model_3/f_model_3_' + str(mu) + \".csv\"\n",
    "\n",
    "file_name_enroll = 'C:/Users/Shuyu/Documents/research/OneDrive/research/Forecasting Paper/Data/enrollment_gender/model_3/unfair/e_model_3_' + str(mu) + \".csv\"\n",
    "file_name_female = 'C:/Users/Shuyu/Documents/research/OneDrive/research/Forecasting Paper/Data/enrollment_gender/model_3/unfair/f_model_3_' + str(mu) + \".csv\"\n",
    "\n",
    "df_enroll_m3 = pd.read_csv(file_name_enroll, index_col=[0])\n",
    "df_female_m3 = pd.read_csv(file_name_female, index_col=[0])\n",
    "agg_level = [c for c in df_enroll_m3.columns if c.count('_') == 2] \n",
    "avg_stat_parity(df_enroll_m3, df_female_m3, agg_level, method = 'last')"
   ]
  },
  {
   "cell_type": "code",
   "execution_count": 136,
   "metadata": {},
   "outputs": [
    {
     "data": {
      "text/plain": [
       "0.053610957106264095"
      ]
     },
     "execution_count": 136,
     "metadata": {},
     "output_type": "execute_result"
    }
   ],
   "source": [
    "avg_stat_parity(df_enroll_m3, df_female_m3, agg_level, method = 'last')"
   ]
  },
  {
   "cell_type": "code",
   "execution_count": 140,
   "metadata": {},
   "outputs": [
    {
     "data": {
      "text/plain": [
       "<matplotlib.legend.Legend at 0x14f9e3e9520>"
      ]
     },
     "execution_count": 140,
     "metadata": {},
     "output_type": "execute_result"
    },
    {
     "data": {
      "image/png": "[encoded data removed]",
      "text/plain": [
       "<Figure size 800x480 with 1 Axes>"
      ]
     },
     "metadata": {
      "needs_background": "light"
     },
     "output_type": "display_data"
    }
   ],
   "source": [
    "mus = []\n",
    "avgsps = []\n",
    "avgsps_fair = []\n",
    "\n",
    "for mu in aggregation_matches:\n",
    "    mus.append(mu)\n",
    "    file_name_enroll = 'C:/Users/Shuyu/Documents/research/OneDrive/research/Forecasting Paper/Data/enrollment_gender/model_3/unfair/e_model_3_' + str(mu) + \".csv\"\n",
    "    file_name_female = 'C:/Users/Shuyu/Documents/research/OneDrive/research/Forecasting Paper/Data/enrollment_gender/model_3/unfair/f_model_3_' + str(mu) + \".csv\"\n",
    "\n",
    "    df_enroll_m3 = pd.read_csv(file_name_enroll, index_col=[0])\n",
    "    df_female_m3 = pd.read_csv(file_name_female, index_col=[0])\n",
    "    \n",
    "    disagg_level = [c for c in df_enroll_m3.columns if c.count('_') == 1] \n",
    "    agg_level = [c for c in df_enroll_m3.columns if c.count('_') == 2] \n",
    "    \n",
    "    aggregation_match_m_3 = aggregation_matches[mu]\n",
    "    sp = avg_stat_parity(df_enroll_m3, df_female_m3, agg_level, method = 'last')\n",
    "    avgsps.append(sp)\n",
    "\n",
    "index = []\n",
    "for i in (range(0,len(mus))):\n",
    "    index.append(i)\n",
    "    \n",
    "       \n",
    "# mus_fair = []\n",
    "# for mu in aggregation_matches_fair:\n",
    "#     mus_fair.append(mu)\n",
    "#     file_name_enroll = 'C:/Users/Shuyu/Documents/research/OneDrive/research/Forecasting Paper/Data/enrollment_gender/model_3/e_model_3_' + str(mu) + \".csv\"\n",
    "#     file_name_female = 'C:/Users/Shuyu/Documents/research/OneDrive/research/Forecasting Paper/Data/enrollment_gender/model_3/f_model_3_' + str(mu) + \".csv\"\n",
    "\n",
    "#     df_enroll_m3 = pd.read_csv(file_name_enroll, index_col=[0])\n",
    "#     df_female_m3 = pd.read_csv(file_name_female, index_col=[0])\n",
    "    \n",
    "#     disagg_level = [c for c in df_enroll_m3.columns if c.count('_') == 1] \n",
    "#     agg_level = [c for c in df_enroll_m3.columns if c.count('_') == 2] \n",
    "    \n",
    "#     aggregation_match_m_3 = aggregation_matches_fair[mu]\n",
    "#     sp = avg_stat_parity(df_enroll_m3, df_female_m3, agg_level, method = 'last')\n",
    "#     avgsps_fair.append(sp)\n",
    "    \n",
    "# index_fair = []\n",
    "\n",
    "\n",
    "# for i in (range(0,len(mus_fair))):\n",
    "#     index_fair.append(i)\n",
    "    \n",
    "plt.figure(figsize=(10,6), dpi=80)\n",
    "\n",
    "g = sns.scatterplot(index, avgsps, ci=None, color='darkcyan', marker = 'o', label = 'Fair aggregation models')\n",
    "g.axhline(0.153, color='lightpink', label = 'standard aggregation model')\n",
    "\n",
    "plt.xlabel(r'$\\mu$' + ' (scaled)')\n",
    "plt.ylabel('Average statistical disparity')\n",
    "plt.legend()\n"
   ]
  },
  {
   "cell_type": "code",
   "execution_count": 218,
   "metadata": {},
   "outputs": [
    {
     "data": {
      "text/plain": [
       "Text(0, 0.5, 'Average statistical disparity between aggregate groups')"
      ]
     },
     "execution_count": 218,
     "metadata": {},
     "output_type": "execute_result"
    },
    {
     "data": {
      "image/png": "[encoded data removed]",
      "text/plain": [
       "<Figure size 800x480 with 1 Axes>"
      ]
     },
     "metadata": {
      "needs_background": "light"
     },
     "output_type": "display_data"
    }
   ],
   "source": [
    "mus = []\n",
    "avgsps = []\n",
    "avgsps_fair = []\n",
    "\n",
    "for mu in aggregation_matches:\n",
    "    mus.append(mu)\n",
    "    file_name_enroll = 'C:/Users/Shuyu/Documents/research/OneDrive/research/Forecasting Paper/Data/enrollment_gender/model_3/unfair/e_model_3_' + str(mu) + \".csv\"\n",
    "    file_name_female = 'C:/Users/Shuyu/Documents/research/OneDrive/research/Forecasting Paper/Data/enrollment_gender/model_3/unfair/f_model_3_' + str(mu) + \".csv\"\n",
    "\n",
    "    df_enroll_m3 = pd.read_csv(file_name_enroll, index_col=[0])\n",
    "    df_female_m3 = pd.read_csv(file_name_female, index_col=[0])\n",
    "    \n",
    "    disagg_level = [c for c in df_enroll_m3.columns if c.count('_') == 1] \n",
    "    agg_level = [c for c in df_enroll_m3.columns if c.count('_') == 2] \n",
    "    \n",
    "    aggregation_match_m_3 = aggregation_matches[mu]\n",
    "    if mu <=0 :\n",
    "        sp = avg_stat_parity(df_enroll_m3, df_female_m3, agg_level, method = 'mean')\n",
    "    else: \n",
    "        sp = avg_stat_parity(df_enroll_m3, df_female_m3, agg_level, method = 'last')\n",
    "    avgsps.append(sp)\n",
    "\n",
    "index = []\n",
    "for i in (range(-len(mus),len(mus),2)):\n",
    "    index.append(i)\n",
    "    \n",
    "plt.figure(figsize=(10,6), dpi=80)\n",
    "\n",
    "sns.scatterplot(avg_mapes, avgsps, ci=None, color='slateblue', marker = 'o' , label = 'Fair aggregation models')\n",
    "\n",
    "\n",
    "\n",
    "plt.xlabel('Average MAPE at the aggregate level')\n",
    "plt.ylabel('Average statistical disparity between aggregate groups')"
   ]
  },
  {
   "cell_type": "markdown",
   "metadata": {},
   "source": [
    "clustering"
   ]
  },
  {
   "cell_type": "code",
   "execution_count": 123,
   "metadata": {},
   "outputs": [
    {
     "data": {
      "text/plain": [
       "<matplotlib.legend.Legend at 0x14f9aeb1820>"
      ]
     },
     "execution_count": 123,
     "metadata": {},
     "output_type": "execute_result"
    },
    {
     "data": {
      "image/png": "[encoded data removed]",
      "text/plain": [
       "<Figure size 1080x720 with 3 Axes>"
      ]
     },
     "metadata": {
      "needs_background": "light"
     },
     "output_type": "display_data"
    }
   ],
   "source": [
    "import matplotlib.patches as mpatches\n",
    "\n",
    "figure, axis = plt.subplots(3, 1, figsize=(15, 10))\n",
    "N, bins, patches = axis[0].hist(mus, bins=20, color='lightblue')\n",
    "for i in range(0,1):\n",
    "    patches[i].set_facecolor('royalblue')\n",
    "\n",
    "N, bins, patches = axis[1].hist(mus, range = [0,2500],bins=20, color='royalblue')\n",
    "for i in range(0,2):\n",
    "    patches[i].set_facecolor('navy')\n",
    "    \n",
    "axis[2].hist(mus, range = [0,250],bins=20, color='navy')\n",
    "plt.xlabel(r'$\\mu$' , fontsize=14)\n",
    "axis[1].set_ylabel('Frequency', fontsize=14)\n",
    "\n",
    "red_patch = mpatches.Patch(color='royalblue', label= r'$\\mu$ < 2500')\n",
    "axis[0].legend(handles=[red_patch])\n",
    "\n",
    "red_patch = mpatches.Patch(color='navy', label= r'$\\mu$ < 250')\n",
    "axis[1].legend(handles=[red_patch])\n"
   ]
  },
  {
   "cell_type": "code",
   "execution_count": 50,
   "metadata": {},
   "outputs": [
    {
     "data": {
      "text/plain": [
       "array([    0,     1,     2, ..., 63575, 63576, 63577])"
      ]
     },
     "execution_count": 50,
     "metadata": {},
     "output_type": "execute_result"
    }
   ],
   "source": [
    "np.arange(min(mus), max(mus)+1)"
   ]
  },
  {
   "cell_type": "code",
   "execution_count": 119,
   "metadata": {},
   "outputs": [
    {
     "data": {
      "text/plain": [
       "Text(0, 0.5, 'Number of clusters')"
      ]
     },
     "execution_count": 119,
     "metadata": {},
     "output_type": "execute_result"
    },
    {
     "data": {
      "image/png": "[encoded data removed]",
      "text/plain": [
       "<Figure size 720x360 with 1 Axes>"
      ]
     },
     "metadata": {
      "needs_background": "light"
     },
     "output_type": "display_data"
    }
   ],
   "source": [
    "fig = plt.figure(figsize = (10, 5))\n",
    "clusters_number_1 = clusters_number[:-1]\n",
    "mus_log = [log(x) for x in mus if x > 0]\n",
    "plt.bar(mus_log, clusters_number_1, color ='palevioletred', width = 0.1)\n",
    "plt.xlabel(r'$\\mu$ (log)'  , fontsize=14)\n",
    "plt.ylabel(\"Number of clusters\"  , fontsize=14)"
   ]
  },
  {
   "cell_type": "code",
   "execution_count": 120,
   "metadata": {},
   "outputs": [
    {
     "data": {
      "text/plain": [
       "[0.0,\n",
       " 0.6931471805599453,\n",
       " 1.3862943611198906,\n",
       " 1.6094379124341003,\n",
       " 1.791759469228055,\n",
       " 1.9459101490553132,\n",
       " 2.0794415416798357,\n",
       " 2.1972245773362196,\n",
       " 2.302585092994046,\n",
       " 2.3978952727983707,\n",
       " 2.5649493574615367,\n",
       " 2.8903717578961645,\n",
       " 2.9444389791664403,\n",
       " 2.995732273553991,\n",
       " 3.1354942159291497,\n",
       " 3.4011973816621555,\n",
       " 3.4657359027997265,\n",
       " 3.5553480614894135,\n",
       " 3.58351893845611,\n",
       " 3.6635616461296463,\n",
       " 3.6888794541139363,\n",
       " 3.8066624897703196,\n",
       " 3.828641396489095,\n",
       " 3.871201010907891,\n",
       " 3.8918202981106265,\n",
       " 3.912023005428146,\n",
       " 3.970291913552122,\n",
       " 4.127134385045092,\n",
       " 4.204692619390966,\n",
       " 4.23410650459726,\n",
       " 4.553876891600541,\n",
       " 4.564348191467836,\n",
       " 4.59511985013459,\n",
       " 4.700480365792417,\n",
       " 4.795790545596741,\n",
       " 4.812184355372417,\n",
       " 4.867534450455582,\n",
       " 4.912654885736052,\n",
       " 4.927253685157205,\n",
       " 4.9344739331306915,\n",
       " 5.017279836814924,\n",
       " 5.0369526024136295,\n",
       " 5.062595033026967,\n",
       " 5.093750200806762,\n",
       " 5.10594547390058,\n",
       " 5.14166355650266,\n",
       " 5.159055299214529,\n",
       " 5.1647859739235145,\n",
       " 5.438079308923196,\n",
       " 5.4638318050256105,\n",
       " 5.598421958998375,\n",
       " 5.783825182329737,\n",
       " 5.802118375377063,\n",
       " 5.91350300563827,\n",
       " 5.953243334287785,\n",
       " 6.1070228877422545,\n",
       " 6.1092475827643655,\n",
       " 6.214608098422191,\n",
       " 6.218600119691729,\n",
       " 6.263398262591624,\n",
       " 6.490723534502507,\n",
       " 6.556778356158042,\n",
       " 6.612041034833092,\n",
       " 6.654152520183219,\n",
       " 6.742880635791903,\n",
       " 6.7661917146603505,\n",
       " 6.76849321164863,\n",
       " 6.811244378601294,\n",
       " 6.9411900550683745,\n",
       " 7.1252830915107115,\n",
       " 7.210079628170788,\n",
       " 7.261927092702751,\n",
       " 7.278628942320682,\n",
       " 7.298445101508147,\n",
       " 7.466227556215481,\n",
       " 7.579167967396076,\n",
       " 7.8434564043761155,\n",
       " 7.875499292445208,\n",
       " 7.889084407035514,\n",
       " 7.980365765111246,\n",
       " 8.009363076630045,\n",
       " 8.045267716607803,\n",
       " 8.069968149059841,\n",
       " 8.141481041457421,\n",
       " 8.3774712482411,\n",
       " 8.426830751335846,\n",
       " 8.642238680390461,\n",
       " 8.74687531957003,\n",
       " 9.310366686043308,\n",
       " 9.381769487603714,\n",
       " 9.830809327038143,\n",
       " 9.89515291574607,\n",
       " 9.959962399464107,\n",
       " 10.300987690989995,\n",
       " 11.060007048702303]"
      ]
     },
     "execution_count": 120,
     "metadata": {},
     "output_type": "execute_result"
    }
   ],
   "source": [
    "mus_log"
   ]
  },
  {
   "cell_type": "code",
   "execution_count": null,
   "metadata": {},
   "outputs": [],
   "source": []
  }
 ],
 "metadata": {
  "kernelspec": {
   "display_name": "Python 3.9.7 ('base')",
   "language": "python",
   "name": "python3"
  },
  "language_info": {
   "codemirror_mode": {
    "name": "ipython",
    "version": 3
   },
   "file_extension": ".py",
   "mimetype": "text/x-python",
   "name": "python",
   "nbconvert_exporter": "python",
   "pygments_lexer": "ipython3",
   "version": "3.9.7"
  },
  "orig_nbformat": 4,
  "vscode": {
   "interpreter": {
    "hash": "ad2bdc8ecc057115af97d19610ffacc2b4e99fae6737bb82f5d7fb13d2f2c186"
   }
  }
 },
 "nbformat": 4,
 "nbformat_minor": 2
}
